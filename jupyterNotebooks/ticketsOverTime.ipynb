{
 "cells": [
  {
   "cell_type": "markdown",
   "metadata": {},
   "source": [
    "Read data"
   ]
  },
  {
   "cell_type": "code",
   "execution_count": 1,
   "metadata": {},
   "outputs": [],
   "source": [
    "table <- read.csv(\"tickets.csv\")"
   ]
  },
  {
   "cell_type": "code",
   "execution_count": 5,
   "metadata": {},
   "outputs": [],
   "source": [
    "Y <- table$tickets\n",
    "X <- table$year"
   ]
  },
  {
   "cell_type": "markdown",
   "metadata": {},
   "source": [
    "Make model"
   ]
  },
  {
   "cell_type": "code",
   "execution_count": 10,
   "metadata": {},
   "outputs": [],
   "source": [
    "model <- lm(Y~X)"
   ]
  },
  {
   "cell_type": "code",
   "execution_count": 13,
   "metadata": {},
   "outputs": [
    {
     "name": "stdout",
     "output_type": "stream",
     "text": [
      "\n",
      "Call:\n",
      "lm(formula = Y ~ X)\n",
      "\n",
      "Residuals:\n",
      "      1       2       3       4       5       6       7 \n",
      "  22649 -106564  -35583  112523   62775   76138 -131938 \n",
      "\n",
      "Coefficients:\n",
      "              Estimate Std. Error t value Pr(>|t|)    \n",
      "(Intercept) -312835300   39203574  -7.980 0.000499 ***\n",
      "X               156770      19446   8.062 0.000475 ***\n",
      "---\n",
      "Signif. codes:  0 '***' 0.001 '**' 0.01 '*' 0.05 '.' 0.1 ' ' 1\n",
      "\n",
      "Residual standard error: 102900 on 5 degrees of freedom\n",
      "Multiple R-squared:  0.9286,\tAdjusted R-squared:  0.9143 \n",
      "F-statistic: 64.99 on 1 and 5 DF,  p-value: 0.0004755\n",
      "\n"
     ]
    }
   ],
   "source": [
    "print(summary(model))"
   ]
  },
  {
   "cell_type": "markdown",
   "metadata": {},
   "source": [
    "Predict new value with model"
   ]
  },
  {
   "cell_type": "code",
   "execution_count": 24,
   "metadata": {},
   "outputs": [
    {
     "data": {
      "text/html": [
       "<strong>1:</strong> 3839017.4285714"
      ],
      "text/latex": [
       "\\textbf{1:} 3839017.4285714"
      ],
      "text/markdown": [
       "**1:** 3839017.4285714"
      ],
      "text/plain": [
       "      1 \n",
       "3839017 "
      ]
     },
     "metadata": {},
     "output_type": "display_data"
    }
   ],
   "source": [
    "predict(model, data.frame(X = 2020))"
   ]
  },
  {
   "cell_type": "code",
   "execution_count": 62,
   "metadata": {},
   "outputs": [
    {
     "data": {
      "image/png": "[encoded data removed]",
      "text/plain": [
       "plot without title"
      ]
     },
     "metadata": {},
     "output_type": "display_data"
    }
   ],
   "source": [
    "plot(X, Y, col=\"blue\", type=\"p\", pch = 16,\n",
    "     xlab = \"years\", ylab = \"tickets sold\", xlim = c(min(X)-1, max(X)+1))\n",
    "abline(lm(Y~X), col=\"red\", lwd = 3)"
   ]
  },
  {
   "cell_type": "markdown",
   "metadata": {},
   "source": [
    "The other way"
   ]
  },
  {
   "cell_type": "code",
   "execution_count": 91,
   "metadata": {},
   "outputs": [],
   "source": [
    "covar <- function(X, Y) {\n",
    "    n <- length(X)\n",
    "    dfX <- X - mean(X)\n",
    "    dfY <- Y - mean(Y)\n",
    "    return (sum(dfX*dfY) / (n - 1))\n",
    "}"
   ]
  },
  {
   "cell_type": "code",
   "execution_count": 97,
   "metadata": {},
   "outputs": [],
   "source": [
    "Sx <- sqrt(covar(X, X))\n",
    "Sy <- sqrt(covar(Y, Y))\n",
    "Sxy <- covar(X, Y)"
   ]
  },
  {
   "cell_type": "code",
   "execution_count": 98,
   "metadata": {},
   "outputs": [
    {
     "data": {
      "text/html": [
       "0.96361933648355"
      ],
      "text/latex": [
       "0.96361933648355"
      ],
      "text/markdown": [
       "0.96361933648355"
      ],
      "text/plain": [
       "[1] 0.9636193"
      ]
     },
     "metadata": {},
     "output_type": "display_data"
    }
   ],
   "source": [
    "r <- Sxy / (Sx * Sy)\n",
    "r"
   ]
  },
  {
   "cell_type": "code",
   "execution_count": 102,
   "metadata": {},
   "outputs": [],
   "source": [
    "n <- length(X)\n",
    "T <- (r * sqrt(n-2)) / sqrt(1 - r^2)"
   ]
  },
  {
   "cell_type": "code",
   "execution_count": 115,
   "metadata": {},
   "outputs": [
    {
     "data": {
      "text/html": [
       "0.000237729555183752"
      ],
      "text/latex": [
       "0.000237729555183752"
      ],
      "text/markdown": [
       "0.000237729555183752"
      ],
      "text/plain": [
       "[1] 0.0002377296"
      ]
     },
     "metadata": {},
     "output_type": "display_data"
    }
   ],
   "source": [
    "pVal <- 1 - max(pt(T, n-2), pt(T, n-2, lower.tail = FALSE))\n",
    "pVal"
   ]
  },
  {
   "cell_type": "markdown",
   "metadata": {},
   "source": [
    ",so  ρ!=0"
   ]
  },
  {
   "cell_type": "markdown",
   "metadata": {},
   "source": [
    "determine regression"
   ]
  },
  {
   "cell_type": "code",
   "execution_count": 118,
   "metadata": {},
   "outputs": [
    {
     "data": {
      "text/html": [
       "156769.464285714"
      ],
      "text/latex": [
       "156769.464285714"
      ],
      "text/markdown": [
       "156769.464285714"
      ],
      "text/plain": [
       "[1] 156769.5"
      ]
     },
     "metadata": {},
     "output_type": "display_data"
    },
    {
     "data": {
      "text/html": [
       "-312835300.428571"
      ],
      "text/latex": [
       "-312835300.428571"
      ],
      "text/markdown": [
       "-312835300.428571"
      ],
      "text/plain": [
       "[1] -312835300"
      ]
     },
     "metadata": {},
     "output_type": "display_data"
    }
   ],
   "source": [
    "a <- r * Sy / Sx\n",
    "b <- mean(Y) - a * mean(X)\n",
    "a\n",
    "b"
   ]
  }
 ],
 "metadata": {
  "kernelspec": {
   "display_name": "R",
   "language": "R",
   "name": "ir"
  },
  "language_info": {
   "codemirror_mode": "r",
   "file_extension": ".r",
   "mimetype": "text/x-r-source",
   "name": "R",
   "pygments_lexer": "r",
   "version": "3.6.1"
  }
 },
 "nbformat": 4,
 "nbformat_minor": 4
}
